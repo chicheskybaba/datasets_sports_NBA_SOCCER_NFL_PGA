{
 "cells": [
  {
   "cell_type": "markdown",
   "metadata": {
    "_uuid": "394626b22877811ebfc7071f68646563d08aeac6"
   },
   "source": [
    "## **PGA PLAYERS** <a id=\"1\"></a>"
   ]
  },
  {
   "cell_type": "markdown",
   "metadata": {},
   "source": [
    "<a><img style=\"float: right;\" src=\"https://www.linkpicture.com/q/images2_4.jpg\" width=\"300\" /></a>\n",
    "<a><img style=\"float: right;\" src=\"https://www.linkpicture.com/q/images_539.png\" width=\"300\" /></a>\n",
    " \n",
    "\n"
   ]
  },
  {
   "cell_type": "markdown",
   "metadata": {},
   "source": [
    "- Dataset source: https://zenodo.org/record/5235684#.ZBcmKtDMLIU"
   ]
  },
  {
   "cell_type": "markdown",
   "metadata": {},
   "source": [
    "### 1.2 Notebook Preparation <a id=\"1.2\"></a>"
   ]
  },
  {
   "cell_type": "markdown",
   "metadata": {},
   "source": [
    "This part of the notebook deals with the relevant library import and visual configuration."
   ]
  },
  {
   "cell_type": "code",
   "execution_count": 9,
   "metadata": {
    "_kg_hide-input": true
   },
   "outputs": [],
   "source": [
    "# Import libraries\n",
    "\n",
    "import pandas as pd\n",
    "import numpy as np \n",
    "from scipy import stats\n",
    "\n",
    "import matplotlib.pyplot as plt\n",
    "import seaborn as sns\n",
    "import plotly\n",
    "import plotly.graph_objects as go\n",
    "import plotly.express as px\n",
    "\n",
    "from sklearn.preprocessing import StandardScaler\n",
    "\n",
    "from sklearn.cluster import KMeans\n",
    "from scipy.cluster.hierarchy import linkage\n",
    "from scipy.cluster.hierarchy import dendrogram\n",
    "from sklearn.metrics import silhouette_samples, silhouette_score"
   ]
  },
  {
   "cell_type": "markdown",
   "metadata": {
    "_uuid": "a95a91a1a31bcd4f79200c6ad21eb0163a9e780c"
   },
   "source": [
    "## **2. Data Preparation** <a id=\"2\"></a>"
   ]
  },
  {
   "cell_type": "markdown",
   "metadata": {},
   "source": [
    "The below section provides an initial exploration of the data."
   ]
  },
  {
   "cell_type": "code",
   "execution_count": 37,
   "metadata": {
    "_kg_hide-input": true,
    "_uuid": "01bb8d38ec581110eb3954352317ef9149f9d787"
   },
   "outputs": [
    {
     "data": {
      "text/html": [
       "<div>\n",
       "<style scoped>\n",
       "    .dataframe tbody tr th:only-of-type {\n",
       "        vertical-align: middle;\n",
       "    }\n",
       "\n",
       "    .dataframe tbody tr th {\n",
       "        vertical-align: top;\n",
       "    }\n",
       "\n",
       "    .dataframe thead th {\n",
       "        text-align: right;\n",
       "    }\n",
       "</style>\n",
       "<table border=\"1\" class=\"dataframe\">\n",
       "  <thead>\n",
       "    <tr style=\"text-align: right;\">\n",
       "      <th></th>\n",
       "      <th>player</th>\n",
       "      <th>Height cm</th>\n",
       "      <th>Weight lbs</th>\n",
       "      <th>DOB</th>\n",
       "      <th>Age</th>\n",
       "      <th>player id</th>\n",
       "      <th>date</th>\n",
       "      <th>course</th>\n",
       "      <th>tournament name</th>\n",
       "      <th>tournament id</th>\n",
       "      <th>...</th>\n",
       "      <th>visibility</th>\n",
       "      <th>winddirDegree</th>\n",
       "      <th>windspeedKmph</th>\n",
       "      <th>GreensGrass</th>\n",
       "      <th>FariwaysGrass</th>\n",
       "      <th>Water</th>\n",
       "      <th>Bunkers</th>\n",
       "      <th>Slope</th>\n",
       "      <th>Length</th>\n",
       "      <th>Par</th>\n",
       "    </tr>\n",
       "  </thead>\n",
       "  <tbody>\n",
       "    <tr>\n",
       "      <th>0</th>\n",
       "      <td>Robert Allenby</td>\n",
       "      <td>185.0</td>\n",
       "      <td>180.0</td>\n",
       "      <td>12/07/1971</td>\n",
       "      <td>46.0</td>\n",
       "      <td>5.0</td>\n",
       "      <td>29/10/2017</td>\n",
       "      <td>Country Club of Jackson - Jackson, MS</td>\n",
       "      <td>Sanderson Farms Championship</td>\n",
       "      <td>3763.0</td>\n",
       "      <td>...</td>\n",
       "      <td>10.0</td>\n",
       "      <td>224.0</td>\n",
       "      <td>3.0</td>\n",
       "      <td>2.0</td>\n",
       "      <td>2.0</td>\n",
       "      <td>1.0</td>\n",
       "      <td>4.0</td>\n",
       "      <td>128.0</td>\n",
       "      <td>6532.0</td>\n",
       "      <td>72.0</td>\n",
       "    </tr>\n",
       "    <tr>\n",
       "      <th>1</th>\n",
       "      <td>Robert Allenby</td>\n",
       "      <td>185.0</td>\n",
       "      <td>180.0</td>\n",
       "      <td>12/07/1971</td>\n",
       "      <td>47.0</td>\n",
       "      <td>5.0</td>\n",
       "      <td>20/05/2018</td>\n",
       "      <td>Trinity Forest - Dallas, TX</td>\n",
       "      <td>AT&amp;T Byron Nelson</td>\n",
       "      <td>401025251.0</td>\n",
       "      <td>...</td>\n",
       "      <td>9.0</td>\n",
       "      <td>208.0</td>\n",
       "      <td>11.0</td>\n",
       "      <td>2.0</td>\n",
       "      <td>8.0</td>\n",
       "      <td>1.0</td>\n",
       "      <td>4.0</td>\n",
       "      <td>134.0</td>\n",
       "      <td>7447.0</td>\n",
       "      <td>72.0</td>\n",
       "    </tr>\n",
       "    <tr>\n",
       "      <th>2</th>\n",
       "      <td>Robert Allenby</td>\n",
       "      <td>185.0</td>\n",
       "      <td>180.0</td>\n",
       "      <td>12/07/1971</td>\n",
       "      <td>47.0</td>\n",
       "      <td>5.0</td>\n",
       "      <td>10/06/2018</td>\n",
       "      <td>TPC Southwind, Memphis, TN</td>\n",
       "      <td>FedEx St. Jude Classic</td>\n",
       "      <td>401025254.0</td>\n",
       "      <td>...</td>\n",
       "      <td>10.0</td>\n",
       "      <td>211.0</td>\n",
       "      <td>11.0</td>\n",
       "      <td>1.0</td>\n",
       "      <td>8.0</td>\n",
       "      <td>1.0</td>\n",
       "      <td>7.0</td>\n",
       "      <td>149.0</td>\n",
       "      <td>7244.0</td>\n",
       "      <td>70.0</td>\n",
       "    </tr>\n",
       "    <tr>\n",
       "      <th>3</th>\n",
       "      <td>Robert Allenby</td>\n",
       "      <td>185.0</td>\n",
       "      <td>180.0</td>\n",
       "      <td>12/07/1971</td>\n",
       "      <td>47.0</td>\n",
       "      <td>5.0</td>\n",
       "      <td>15/07/2018</td>\n",
       "      <td>TPC Deere Run - Silvis, IL</td>\n",
       "      <td>John Deere Classic</td>\n",
       "      <td>401025258.0</td>\n",
       "      <td>...</td>\n",
       "      <td>8.0</td>\n",
       "      <td>237.0</td>\n",
       "      <td>6.0</td>\n",
       "      <td>1.0</td>\n",
       "      <td>1.0</td>\n",
       "      <td>1.0</td>\n",
       "      <td>6.0</td>\n",
       "      <td>138.0</td>\n",
       "      <td>7258.0</td>\n",
       "      <td>71.0</td>\n",
       "    </tr>\n",
       "    <tr>\n",
       "      <th>4</th>\n",
       "      <td>Robert Allenby</td>\n",
       "      <td>185.0</td>\n",
       "      <td>180.0</td>\n",
       "      <td>12/07/1971</td>\n",
       "      <td>47.0</td>\n",
       "      <td>5.0</td>\n",
       "      <td>23/07/2018</td>\n",
       "      <td>Keene Trace - Nicholasville, KY</td>\n",
       "      <td>Barbasol Championship</td>\n",
       "      <td>401025271.0</td>\n",
       "      <td>...</td>\n",
       "      <td>10.0</td>\n",
       "      <td>149.0</td>\n",
       "      <td>9.0</td>\n",
       "      <td>1.0</td>\n",
       "      <td>1.0</td>\n",
       "      <td>1.0</td>\n",
       "      <td>3.0</td>\n",
       "      <td>139.0</td>\n",
       "      <td>7334.0</td>\n",
       "      <td>72.0</td>\n",
       "    </tr>\n",
       "    <tr>\n",
       "      <th>5</th>\n",
       "      <td>Robert Allenby</td>\n",
       "      <td>185.0</td>\n",
       "      <td>180.0</td>\n",
       "      <td>12/07/1971</td>\n",
       "      <td>48.0</td>\n",
       "      <td>5.0</td>\n",
       "      <td>24/02/2019</td>\n",
       "      <td>Coco Beach - Rio Grande, Puero Rico</td>\n",
       "      <td>Puerto Rico Open</td>\n",
       "      <td>401056517.0</td>\n",
       "      <td>...</td>\n",
       "      <td>9.0</td>\n",
       "      <td>267.0</td>\n",
       "      <td>38.0</td>\n",
       "      <td>3.0</td>\n",
       "      <td>4.0</td>\n",
       "      <td>1.0</td>\n",
       "      <td>4.0</td>\n",
       "      <td>136.0</td>\n",
       "      <td>7557.0</td>\n",
       "      <td>72.0</td>\n",
       "    </tr>\n",
       "    <tr>\n",
       "      <th>6</th>\n",
       "      <td>Robert Allenby</td>\n",
       "      <td>185.0</td>\n",
       "      <td>180.0</td>\n",
       "      <td>12/07/1971</td>\n",
       "      <td>48.0</td>\n",
       "      <td>5.0</td>\n",
       "      <td>31/03/2019</td>\n",
       "      <td>Corales Puntacana GC - Punta Cana, Dominican R...</td>\n",
       "      <td>Corales Puntacana Resort &amp; Club Championship</td>\n",
       "      <td>401056525.0</td>\n",
       "      <td>...</td>\n",
       "      <td>10.0</td>\n",
       "      <td>136.0</td>\n",
       "      <td>9.0</td>\n",
       "      <td>3.0</td>\n",
       "      <td>4.0</td>\n",
       "      <td>1.0</td>\n",
       "      <td>10.0</td>\n",
       "      <td>140.0</td>\n",
       "      <td>7650.0</td>\n",
       "      <td>72.0</td>\n",
       "    </tr>\n",
       "    <tr>\n",
       "      <th>7</th>\n",
       "      <td>Robert Allenby</td>\n",
       "      <td>185.0</td>\n",
       "      <td>180.0</td>\n",
       "      <td>12/07/1971</td>\n",
       "      <td>48.0</td>\n",
       "      <td>5.0</td>\n",
       "      <td>14/07/2019</td>\n",
       "      <td>TPC Deere Run - Silvis, IL</td>\n",
       "      <td>John Deere Classic</td>\n",
       "      <td>401025258.0</td>\n",
       "      <td>...</td>\n",
       "      <td>9.0</td>\n",
       "      <td>173.0</td>\n",
       "      <td>6.0</td>\n",
       "      <td>1.0</td>\n",
       "      <td>1.0</td>\n",
       "      <td>1.0</td>\n",
       "      <td>6.0</td>\n",
       "      <td>138.0</td>\n",
       "      <td>7258.0</td>\n",
       "      <td>71.0</td>\n",
       "    </tr>\n",
       "    <tr>\n",
       "      <th>8</th>\n",
       "      <td>Robert Allenby</td>\n",
       "      <td>185.0</td>\n",
       "      <td>180.0</td>\n",
       "      <td>12/07/1971</td>\n",
       "      <td>48.0</td>\n",
       "      <td>5.0</td>\n",
       "      <td>21/07/2019</td>\n",
       "      <td>Keene Trace - Nicholasville, KY</td>\n",
       "      <td>Barbasol Championship</td>\n",
       "      <td>401025271.0</td>\n",
       "      <td>...</td>\n",
       "      <td>10.0</td>\n",
       "      <td>97.0</td>\n",
       "      <td>22.0</td>\n",
       "      <td>1.0</td>\n",
       "      <td>1.0</td>\n",
       "      <td>1.0</td>\n",
       "      <td>3.0</td>\n",
       "      <td>139.0</td>\n",
       "      <td>7334.0</td>\n",
       "      <td>72.0</td>\n",
       "    </tr>\n",
       "    <tr>\n",
       "      <th>9</th>\n",
       "      <td>Robert Allenby</td>\n",
       "      <td>185.0</td>\n",
       "      <td>180.0</td>\n",
       "      <td>12/07/1971</td>\n",
       "      <td>48.0</td>\n",
       "      <td>5.0</td>\n",
       "      <td>22/09/2019</td>\n",
       "      <td>Country Club of Jackson - Jackson, MS</td>\n",
       "      <td>Sanderson Farms Championship</td>\n",
       "      <td>3763.0</td>\n",
       "      <td>...</td>\n",
       "      <td>9.0</td>\n",
       "      <td>232.0</td>\n",
       "      <td>21.0</td>\n",
       "      <td>2.0</td>\n",
       "      <td>2.0</td>\n",
       "      <td>1.0</td>\n",
       "      <td>4.0</td>\n",
       "      <td>128.0</td>\n",
       "      <td>6532.0</td>\n",
       "      <td>72.0</td>\n",
       "    </tr>\n",
       "  </tbody>\n",
       "</table>\n",
       "<p>10 rows × 64 columns</p>\n",
       "</div>"
      ],
      "text/plain": [
       "           player  Height cm  Weight lbs         DOB   Age  player id  \\\n",
       "0  Robert Allenby      185.0       180.0  12/07/1971  46.0        5.0   \n",
       "1  Robert Allenby      185.0       180.0  12/07/1971  47.0        5.0   \n",
       "2  Robert Allenby      185.0       180.0  12/07/1971  47.0        5.0   \n",
       "3  Robert Allenby      185.0       180.0  12/07/1971  47.0        5.0   \n",
       "4  Robert Allenby      185.0       180.0  12/07/1971  47.0        5.0   \n",
       "5  Robert Allenby      185.0       180.0  12/07/1971  48.0        5.0   \n",
       "6  Robert Allenby      185.0       180.0  12/07/1971  48.0        5.0   \n",
       "7  Robert Allenby      185.0       180.0  12/07/1971  48.0        5.0   \n",
       "8  Robert Allenby      185.0       180.0  12/07/1971  48.0        5.0   \n",
       "9  Robert Allenby      185.0       180.0  12/07/1971  48.0        5.0   \n",
       "\n",
       "         date                                             course  \\\n",
       "0  29/10/2017              Country Club of Jackson - Jackson, MS   \n",
       "1  20/05/2018                        Trinity Forest - Dallas, TX   \n",
       "2  10/06/2018                         TPC Southwind, Memphis, TN   \n",
       "3  15/07/2018                         TPC Deere Run - Silvis, IL   \n",
       "4  23/07/2018                    Keene Trace - Nicholasville, KY   \n",
       "5  24/02/2019                Coco Beach - Rio Grande, Puero Rico   \n",
       "6  31/03/2019  Corales Puntacana GC - Punta Cana, Dominican R...   \n",
       "7  14/07/2019                         TPC Deere Run - Silvis, IL   \n",
       "8  21/07/2019                    Keene Trace - Nicholasville, KY   \n",
       "9  22/09/2019              Country Club of Jackson - Jackson, MS   \n",
       "\n",
       "                                tournament name  tournament id  ...  \\\n",
       "0                  Sanderson Farms Championship         3763.0  ...   \n",
       "1                             AT&T Byron Nelson    401025251.0  ...   \n",
       "2                        FedEx St. Jude Classic    401025254.0  ...   \n",
       "3                            John Deere Classic    401025258.0  ...   \n",
       "4                         Barbasol Championship    401025271.0  ...   \n",
       "5                              Puerto Rico Open    401056517.0  ...   \n",
       "6  Corales Puntacana Resort & Club Championship    401056525.0  ...   \n",
       "7                            John Deere Classic    401025258.0  ...   \n",
       "8                         Barbasol Championship    401025271.0  ...   \n",
       "9                  Sanderson Farms Championship         3763.0  ...   \n",
       "\n",
       "   visibility  winddirDegree  windspeedKmph  GreensGrass  FariwaysGrass  \\\n",
       "0        10.0          224.0            3.0          2.0            2.0   \n",
       "1         9.0          208.0           11.0          2.0            8.0   \n",
       "2        10.0          211.0           11.0          1.0            8.0   \n",
       "3         8.0          237.0            6.0          1.0            1.0   \n",
       "4        10.0          149.0            9.0          1.0            1.0   \n",
       "5         9.0          267.0           38.0          3.0            4.0   \n",
       "6        10.0          136.0            9.0          3.0            4.0   \n",
       "7         9.0          173.0            6.0          1.0            1.0   \n",
       "8        10.0           97.0           22.0          1.0            1.0   \n",
       "9         9.0          232.0           21.0          2.0            2.0   \n",
       "\n",
       "   Water  Bunkers  Slope  Length   Par  \n",
       "0    1.0      4.0  128.0  6532.0  72.0  \n",
       "1    1.0      4.0  134.0  7447.0  72.0  \n",
       "2    1.0      7.0  149.0  7244.0  70.0  \n",
       "3    1.0      6.0  138.0  7258.0  71.0  \n",
       "4    1.0      3.0  139.0  7334.0  72.0  \n",
       "5    1.0      4.0  136.0  7557.0  72.0  \n",
       "6    1.0     10.0  140.0  7650.0  72.0  \n",
       "7    1.0      6.0  138.0  7258.0  71.0  \n",
       "8    1.0      3.0  139.0  7334.0  72.0  \n",
       "9    1.0      4.0  128.0  6532.0  72.0  \n",
       "\n",
       "[10 rows x 64 columns]"
      ]
     },
     "execution_count": 37,
     "metadata": {},
     "output_type": "execute_result"
    }
   ],
   "source": [
    "# Import the PGA data as a DataFrame and check first 10 rows\n",
    "\n",
    "df = pd.read_csv('pga_dataset_players.csv')\n",
    "\n",
    "df.head(10)"
   ]
  },
  {
   "cell_type": "code",
   "execution_count": 38,
   "metadata": {},
   "outputs": [
    {
     "data": {
      "text/plain": [
       "(14041, 64)"
      ]
     },
     "execution_count": 38,
     "metadata": {},
     "output_type": "execute_result"
    }
   ],
   "source": [
    "# Let us count the number of rows and columns in the PGA dataset.\n",
    "\n",
    "df.shape"
   ]
  },
  {
   "cell_type": "markdown",
   "metadata": {},
   "source": [
    "- The dataset contains 14,041 rows and 64 columns"
   ]
  },
  {
   "cell_type": "code",
   "execution_count": 39,
   "metadata": {
    "_kg_hide-input": true,
    "_uuid": "38e354a2a8f38972e9eea009bfeaf62e29ca902a"
   },
   "outputs": [
    {
     "name": "stdout",
     "output_type": "stream",
     "text": [
      "<class 'pandas.core.frame.DataFrame'>\n",
      "RangeIndex: 14041 entries, 0 to 14040\n",
      "Data columns (total 64 columns):\n",
      " #   Column                 Non-Null Count  Dtype  \n",
      "---  ------                 --------------  -----  \n",
      " 0   player                 14040 non-null  object \n",
      " 1   Height cm              14040 non-null  float64\n",
      " 2   Weight lbs             14040 non-null  float64\n",
      " 3   DOB                    14040 non-null  object \n",
      " 4   Age                    14040 non-null  float64\n",
      " 5   player id              14040 non-null  float64\n",
      " 6   date                   14040 non-null  object \n",
      " 7   course                 14040 non-null  object \n",
      " 8   tournament name        14040 non-null  object \n",
      " 9   tournament id          14040 non-null  float64\n",
      " 10  season                 14040 non-null  float64\n",
      " 11  final position         14040 non-null  float64\n",
      " 12  major                  14040 non-null  float64\n",
      " 13  made_cut               14040 non-null  float64\n",
      " 14  Consecutive_Cuts_Made  13721 non-null  float64\n",
      " 15  Finish                 14040 non-null  float64\n",
      " 16  Score                  11656 non-null  float64\n",
      " 17  sg_putt                11656 non-null  float64\n",
      " 18  sg_arg                 11656 non-null  float64\n",
      " 19  sg_app                 11656 non-null  float64\n",
      " 20  sg_ott                 11656 non-null  float64\n",
      " 21  sg_t2g                 11656 non-null  float64\n",
      " 22  sg_total               11656 non-null  float64\n",
      " 23  sg_putt_prev           11482 non-null  float64\n",
      " 24  sg_arg_prev            11482 non-null  float64\n",
      " 25  sg_app_prev            11482 non-null  float64\n",
      " 26  sg_ott_prev            11482 non-null  float64\n",
      " 27  sg_t2g_prev            11482 non-null  float64\n",
      " 28  sg_total_prev          11656 non-null  float64\n",
      " 29  place                  14040 non-null  float64\n",
      " 30  Number of Rounds       14040 non-null  float64\n",
      " 31  Drive Yards            14040 non-null  float64\n",
      " 32  Fairways Hit           14040 non-null  float64\n",
      " 33  PUTTS/HOLE             14040 non-null  float64\n",
      " 34  maxtempC               14040 non-null  float64\n",
      " 35  mintempC               14040 non-null  float64\n",
      " 36  totalSnow_cm           14040 non-null  float64\n",
      " 37  sunHour                14040 non-null  float64\n",
      " 38  uvIndex                14040 non-null  float64\n",
      " 39  moon_illumination      14040 non-null  float64\n",
      " 40  moonrise               14040 non-null  object \n",
      " 41  moonset                14040 non-null  object \n",
      " 42  sunrise                14040 non-null  object \n",
      " 43  sunset                 14040 non-null  object \n",
      " 44  DewPointC              14040 non-null  float64\n",
      " 45  FeelsLikeC             14040 non-null  float64\n",
      " 46  HeatIndexC             14040 non-null  float64\n",
      " 47  WindChillC             14040 non-null  float64\n",
      " 48  WindGustKmph           14040 non-null  float64\n",
      " 49  cloudcover             14040 non-null  float64\n",
      " 50  humidity               14040 non-null  float64\n",
      " 51  precipMM               14040 non-null  float64\n",
      " 52  pressure               14040 non-null  float64\n",
      " 53  tempC                  14040 non-null  float64\n",
      " 54  visibility             14040 non-null  float64\n",
      " 55  winddirDegree          14040 non-null  float64\n",
      " 56  windspeedKmph          14040 non-null  float64\n",
      " 57  GreensGrass            14040 non-null  float64\n",
      " 58  FariwaysGrass          14040 non-null  float64\n",
      " 59  Water                  14040 non-null  float64\n",
      " 60  Bunkers                14040 non-null  float64\n",
      " 61  Slope                  14040 non-null  float64\n",
      " 62  Length                 14040 non-null  float64\n",
      " 63  Par                    14040 non-null  float64\n",
      "dtypes: float64(55), object(9)\n",
      "memory usage: 6.9+ MB\n"
     ]
    }
   ],
   "source": [
    "# Check data types and if any records are missing\n",
    "\n",
    "df.info()"
   ]
  },
  {
   "cell_type": "markdown",
   "metadata": {},
   "source": [
    "- Seems we have missing records in our datasets. However, we are only interested in the missing records of Age, Weight, and Height in the dataset."
   ]
  },
  {
   "cell_type": "markdown",
   "metadata": {},
   "source": [
    "- Let us count the missing values in each column of our dataset."
   ]
  },
  {
   "cell_type": "code",
   "execution_count": 40,
   "metadata": {},
   "outputs": [
    {
     "data": {
      "text/plain": [
       "player        1\n",
       "Height cm     1\n",
       "Weight lbs    1\n",
       "DOB           1\n",
       "Age           1\n",
       "             ..\n",
       "Water         1\n",
       "Bunkers       1\n",
       "Slope         1\n",
       "Length        1\n",
       "Par           1\n",
       "Length: 64, dtype: int64"
      ]
     },
     "execution_count": 40,
     "metadata": {},
     "output_type": "execute_result"
    }
   ],
   "source": [
    "# We can count the missing values in each column of our dataset.\n",
    "\n",
    "df.isnull().sum()"
   ]
  },
  {
   "cell_type": "markdown",
   "metadata": {},
   "source": [
    "- Since we are only interested in the average height, average weight and average age, let us delete the rows with missing records of Height, Weight and Age."
   ]
  },
  {
   "cell_type": "code",
   "execution_count": 42,
   "metadata": {},
   "outputs": [],
   "source": [
    "# We are deleting rows with missing Age, Height,and Weight records\n",
    "\n",
    "df = df.dropna(subset=['Height cm', 'Weight lbs', 'Age'])"
   ]
  },
  {
   "cell_type": "code",
   "execution_count": 43,
   "metadata": {},
   "outputs": [
    {
     "data": {
      "text/plain": [
       "player        0\n",
       "Height cm     0\n",
       "Weight lbs    0\n",
       "DOB           0\n",
       "Age           0\n",
       "             ..\n",
       "Water         0\n",
       "Bunkers       0\n",
       "Slope         0\n",
       "Length        0\n",
       "Par           0\n",
       "Length: 64, dtype: int64"
      ]
     },
     "execution_count": 43,
     "metadata": {},
     "output_type": "execute_result"
    }
   ],
   "source": [
    "# Let us check if we still have missing Age, Height, and Weight records in the PGA dataset.\n",
    "\n",
    "df.isnull().sum()"
   ]
  },
  {
   "cell_type": "markdown",
   "metadata": {},
   "source": [
    "- Now, the dataset has no missing records of height, age, and weight."
   ]
  },
  {
   "cell_type": "markdown",
   "metadata": {},
   "source": [
    "- Let us extract Age, Weight and Height information from the dataset"
   ]
  },
  {
   "cell_type": "code",
   "execution_count": 44,
   "metadata": {},
   "outputs": [
    {
     "data": {
      "text/plain": [
       "0    46.0\n",
       "1    47.0\n",
       "2    47.0\n",
       "3    47.0\n",
       "4    47.0\n",
       "Name: Age, dtype: float64"
      ]
     },
     "execution_count": 44,
     "metadata": {},
     "output_type": "execute_result"
    }
   ],
   "source": [
    "# Here, we extract the ages of PGA players from our dataset (years)\n",
    "\n",
    "df_Age = df['Age']\n",
    "\n",
    "df_Age.head()"
   ]
  },
  {
   "cell_type": "code",
   "execution_count": 45,
   "metadata": {},
   "outputs": [
    {
     "data": {
      "text/plain": [
       "33.340598290598294"
      ]
     },
     "execution_count": 45,
     "metadata": {},
     "output_type": "execute_result"
    }
   ],
   "source": [
    "# Let us find the average age of PGA players\n",
    "\n",
    "df_Age_mean = df_Age.mean()\n",
    "\n",
    "df_Age_mean"
   ]
  },
  {
   "cell_type": "code",
   "execution_count": 46,
   "metadata": {},
   "outputs": [
    {
     "data": {
      "text/plain": [
       "0     180.0\n",
       "1     180.0\n",
       "2     180.0\n",
       "3     180.0\n",
       "4     180.0\n",
       "5     180.0\n",
       "6     180.0\n",
       "7     180.0\n",
       "8     180.0\n",
       "9     180.0\n",
       "10    180.0\n",
       "11    180.0\n",
       "12    180.0\n",
       "13    195.0\n",
       "14    195.0\n",
       "15    195.0\n",
       "16    195.0\n",
       "17    195.0\n",
       "18    195.0\n",
       "19    195.0\n",
       "Name: Weight lbs, dtype: float64"
      ]
     },
     "execution_count": 46,
     "metadata": {},
     "output_type": "execute_result"
    }
   ],
   "source": [
    "# Here, we extract the weight (lbs) of PGA players from our dataset and display the top 20 \n",
    "\n",
    "df_Weight = df['Weight lbs']\n",
    "\n",
    "df_Weight.head(20)"
   ]
  },
  {
   "cell_type": "code",
   "execution_count": 47,
   "metadata": {},
   "outputs": [
    {
     "data": {
      "text/plain": [
       "179.03867521367522"
      ]
     },
     "execution_count": 47,
     "metadata": {},
     "output_type": "execute_result"
    }
   ],
   "source": [
    "# Let us find the average weight of PGA players in (lbs)\n",
    "\n",
    "df_Weight.mean()"
   ]
  },
  {
   "cell_type": "code",
   "execution_count": 48,
   "metadata": {},
   "outputs": [
    {
     "data": {
      "text/plain": [
       "0     185.0\n",
       "1     185.0\n",
       "2     185.0\n",
       "3     185.0\n",
       "4     185.0\n",
       "5     185.0\n",
       "6     185.0\n",
       "7     185.0\n",
       "8     185.0\n",
       "9     185.0\n",
       "10    185.0\n",
       "11    185.0\n",
       "12    185.0\n",
       "13    185.0\n",
       "14    185.0\n",
       "15    185.0\n",
       "16    185.0\n",
       "17    185.0\n",
       "18    185.0\n",
       "19    185.0\n",
       "Name: Height cm, dtype: float64"
      ]
     },
     "execution_count": 48,
     "metadata": {},
     "output_type": "execute_result"
    }
   ],
   "source": [
    "# Here, we extract the height (cm) of PGA players from our dataset and display the top 20 \n",
    "\n",
    "df_Height = df['Height cm']\n",
    "\n",
    "df_Height.head(20)"
   ]
  },
  {
   "cell_type": "code",
   "execution_count": 50,
   "metadata": {},
   "outputs": [
    {
     "data": {
      "text/plain": [
       "182.51709401709402"
      ]
     },
     "execution_count": 50,
     "metadata": {},
     "output_type": "execute_result"
    }
   ],
   "source": [
    "# Let us find the average height of PGA players in 'cm'\n",
    "\n",
    "df_Height.mean()"
   ]
  },
  {
   "cell_type": "markdown",
   "metadata": {
    "_uuid": "bf35ab5be10e493878da61bd4d3f0b4b71d6c5b4"
   },
   "source": [
    "## **5. Conclusion** <a id=\"5\"></a>"
   ]
  },
  {
   "cell_type": "markdown",
   "metadata": {},
   "source": [
    "- We can establish here that the average age, average weight, and average height of PGA players based on our data\n",
    "  records are 33 years, 179 lbs, and 182.5 cm"
   ]
  },
  {
   "cell_type": "code",
   "execution_count": null,
   "metadata": {},
   "outputs": [],
   "source": []
  }
 ],
 "metadata": {
  "kernelspec": {
   "display_name": "Python 3 (ipykernel)",
   "language": "python",
   "name": "python3"
  },
  "language_info": {
   "codemirror_mode": {
    "name": "ipython",
    "version": 3
   },
   "file_extension": ".py",
   "mimetype": "text/x-python",
   "name": "python",
   "nbconvert_exporter": "python",
   "pygments_lexer": "ipython3",
   "version": "3.8.4"
  }
 },
 "nbformat": 4,
 "nbformat_minor": 4
}
