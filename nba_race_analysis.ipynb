{
 "cells": [
  {
   "cell_type": "markdown",
   "metadata": {
    "_uuid": "394626b22877811ebfc7071f68646563d08aeac6"
   },
   "source": [
    "## **NBA PLAYERS BY RACE (BY COUNTRY OF ORIGIN CLASSIFICATION)** <a id=\"1\"></a>"
   ]
  },
  {
   "cell_type": "markdown",
   "metadata": {},
   "source": [
    "<a><img style=\"float: right;\" src=\"https://pbs.twimg.com/media/D_SZjUSWkAENmvg.jpg\" width=\"300\" /></a>\n",
    " \n",
    "\n"
   ]
  },
  {
   "cell_type": "markdown",
   "metadata": {},
   "source": [
    "- Data Source: /kaggle/input/country-code/country_code.csv\n",
    "             : /kaggle/input/nba-players-data/all_seasons.csv"
   ]
  },
  {
   "cell_type": "markdown",
   "metadata": {},
   "source": [
    "### 1.2 Notebook Preparation <a id=\"1.2\"></a>"
   ]
  },
  {
   "cell_type": "markdown",
   "metadata": {},
   "source": [
    "This part of the notebook deals with the relevant library import and visual configuration."
   ]
  },
  {
   "cell_type": "code",
   "execution_count": 3,
   "metadata": {
    "_kg_hide-input": true
   },
   "outputs": [],
   "source": [
    "# Import libraries\n",
    "\n",
    "import pandas as pd\n",
    "import numpy as np \n",
    "from scipy import stats\n",
    "import seaborn as sn\n",
    "import matplotlib.pyplot as plt\n",
    "import seaborn as sns\n",
    "import plotly\n",
    "import plotly.graph_objects as go\n",
    "import plotly.express as px\n",
    "\n",
    "from sklearn.preprocessing import StandardScaler\n",
    "\n",
    "from sklearn.cluster import KMeans\n",
    "from scipy.cluster.hierarchy import linkage\n",
    "from scipy.cluster.hierarchy import dendrogram\n",
    "from sklearn.metrics import silhouette_samples, silhouette_score"
   ]
  },
  {
   "cell_type": "code",
   "execution_count": 4,
   "metadata": {
    "_kg_hide-input": true
   },
   "outputs": [],
   "source": [
    "# Set notebook options\n",
    "\n",
    "\n",
    "pd.options.display.max_columns = 30\n",
    "\n",
    "import warnings\n",
    "warnings.filterwarnings(\"ignore\")"
   ]
  },
  {
   "cell_type": "markdown",
   "metadata": {
    "_uuid": "a95a91a1a31bcd4f79200c6ad21eb0163a9e780c"
   },
   "source": [
    "## **2. Data Preparation** <a id=\"2\"></a>"
   ]
  },
  {
   "cell_type": "markdown",
   "metadata": {},
   "source": [
    "The below section provides an initial exploration of the data."
   ]
  },
  {
   "cell_type": "code",
   "execution_count": 5,
   "metadata": {
    "_kg_hide-input": true,
    "_uuid": "01bb8d38ec581110eb3954352317ef9149f9d787"
   },
   "outputs": [
    {
     "data": {
      "text/html": [
       "<div>\n",
       "<style scoped>\n",
       "    .dataframe tbody tr th:only-of-type {\n",
       "        vertical-align: middle;\n",
       "    }\n",
       "\n",
       "    .dataframe tbody tr th {\n",
       "        vertical-align: top;\n",
       "    }\n",
       "\n",
       "    .dataframe thead th {\n",
       "        text-align: right;\n",
       "    }\n",
       "</style>\n",
       "<table border=\"1\" class=\"dataframe\">\n",
       "  <thead>\n",
       "    <tr style=\"text-align: right;\">\n",
       "      <th></th>\n",
       "      <th>player_name</th>\n",
       "      <th>team_abbreviation</th>\n",
       "      <th>age</th>\n",
       "      <th>player_height</th>\n",
       "      <th>player_weight</th>\n",
       "      <th>college</th>\n",
       "      <th>country</th>\n",
       "      <th>draft_year</th>\n",
       "      <th>draft_round</th>\n",
       "      <th>draft_number</th>\n",
       "      <th>gp</th>\n",
       "      <th>pts</th>\n",
       "      <th>reb</th>\n",
       "      <th>ast</th>\n",
       "      <th>net_rating</th>\n",
       "      <th>oreb_pct</th>\n",
       "      <th>dreb_pct</th>\n",
       "      <th>usg_pct</th>\n",
       "      <th>ts_pct</th>\n",
       "      <th>ast_pct</th>\n",
       "      <th>season</th>\n",
       "    </tr>\n",
       "  </thead>\n",
       "  <tbody>\n",
       "    <tr>\n",
       "      <th>0</th>\n",
       "      <td>Dennis Rodman</td>\n",
       "      <td>CHI</td>\n",
       "      <td>36.0</td>\n",
       "      <td>198.12</td>\n",
       "      <td>99.790240</td>\n",
       "      <td>Southeastern Oklahoma State</td>\n",
       "      <td>USA</td>\n",
       "      <td>1986</td>\n",
       "      <td>2</td>\n",
       "      <td>27</td>\n",
       "      <td>55</td>\n",
       "      <td>5.7</td>\n",
       "      <td>16.1</td>\n",
       "      <td>3.1</td>\n",
       "      <td>16.1</td>\n",
       "      <td>0.186</td>\n",
       "      <td>0.323</td>\n",
       "      <td>0.100</td>\n",
       "      <td>0.479</td>\n",
       "      <td>0.113</td>\n",
       "      <td>1996-97</td>\n",
       "    </tr>\n",
       "    <tr>\n",
       "      <th>1</th>\n",
       "      <td>Dwayne Schintzius</td>\n",
       "      <td>LAC</td>\n",
       "      <td>28.0</td>\n",
       "      <td>215.90</td>\n",
       "      <td>117.933920</td>\n",
       "      <td>Florida</td>\n",
       "      <td>USA</td>\n",
       "      <td>1990</td>\n",
       "      <td>1</td>\n",
       "      <td>24</td>\n",
       "      <td>15</td>\n",
       "      <td>2.3</td>\n",
       "      <td>1.5</td>\n",
       "      <td>0.3</td>\n",
       "      <td>12.3</td>\n",
       "      <td>0.078</td>\n",
       "      <td>0.151</td>\n",
       "      <td>0.175</td>\n",
       "      <td>0.430</td>\n",
       "      <td>0.048</td>\n",
       "      <td>1996-97</td>\n",
       "    </tr>\n",
       "    <tr>\n",
       "      <th>2</th>\n",
       "      <td>Earl Cureton</td>\n",
       "      <td>TOR</td>\n",
       "      <td>39.0</td>\n",
       "      <td>205.74</td>\n",
       "      <td>95.254320</td>\n",
       "      <td>Detroit Mercy</td>\n",
       "      <td>USA</td>\n",
       "      <td>1979</td>\n",
       "      <td>3</td>\n",
       "      <td>58</td>\n",
       "      <td>9</td>\n",
       "      <td>0.8</td>\n",
       "      <td>1.0</td>\n",
       "      <td>0.4</td>\n",
       "      <td>-2.1</td>\n",
       "      <td>0.105</td>\n",
       "      <td>0.102</td>\n",
       "      <td>0.103</td>\n",
       "      <td>0.376</td>\n",
       "      <td>0.148</td>\n",
       "      <td>1996-97</td>\n",
       "    </tr>\n",
       "    <tr>\n",
       "      <th>3</th>\n",
       "      <td>Ed O'Bannon</td>\n",
       "      <td>DAL</td>\n",
       "      <td>24.0</td>\n",
       "      <td>203.20</td>\n",
       "      <td>100.697424</td>\n",
       "      <td>UCLA</td>\n",
       "      <td>USA</td>\n",
       "      <td>1995</td>\n",
       "      <td>1</td>\n",
       "      <td>9</td>\n",
       "      <td>64</td>\n",
       "      <td>3.7</td>\n",
       "      <td>2.3</td>\n",
       "      <td>0.6</td>\n",
       "      <td>-8.7</td>\n",
       "      <td>0.060</td>\n",
       "      <td>0.149</td>\n",
       "      <td>0.167</td>\n",
       "      <td>0.399</td>\n",
       "      <td>0.077</td>\n",
       "      <td>1996-97</td>\n",
       "    </tr>\n",
       "    <tr>\n",
       "      <th>4</th>\n",
       "      <td>Ed Pinckney</td>\n",
       "      <td>MIA</td>\n",
       "      <td>34.0</td>\n",
       "      <td>205.74</td>\n",
       "      <td>108.862080</td>\n",
       "      <td>Villanova</td>\n",
       "      <td>USA</td>\n",
       "      <td>1985</td>\n",
       "      <td>1</td>\n",
       "      <td>10</td>\n",
       "      <td>27</td>\n",
       "      <td>2.4</td>\n",
       "      <td>2.4</td>\n",
       "      <td>0.2</td>\n",
       "      <td>-11.2</td>\n",
       "      <td>0.109</td>\n",
       "      <td>0.179</td>\n",
       "      <td>0.127</td>\n",
       "      <td>0.611</td>\n",
       "      <td>0.040</td>\n",
       "      <td>1996-97</td>\n",
       "    </tr>\n",
       "  </tbody>\n",
       "</table>\n",
       "</div>"
      ],
      "text/plain": [
       "         player_name team_abbreviation   age  player_height  player_weight  \\\n",
       "0      Dennis Rodman               CHI  36.0         198.12      99.790240   \n",
       "1  Dwayne Schintzius               LAC  28.0         215.90     117.933920   \n",
       "2       Earl Cureton               TOR  39.0         205.74      95.254320   \n",
       "3        Ed O'Bannon               DAL  24.0         203.20     100.697424   \n",
       "4        Ed Pinckney               MIA  34.0         205.74     108.862080   \n",
       "\n",
       "                       college country draft_year draft_round draft_number  \\\n",
       "0  Southeastern Oklahoma State     USA       1986           2           27   \n",
       "1                      Florida     USA       1990           1           24   \n",
       "2                Detroit Mercy     USA       1979           3           58   \n",
       "3                         UCLA     USA       1995           1            9   \n",
       "4                    Villanova     USA       1985           1           10   \n",
       "\n",
       "   gp  pts   reb  ast  net_rating  oreb_pct  dreb_pct  usg_pct  ts_pct  \\\n",
       "0  55  5.7  16.1  3.1        16.1     0.186     0.323    0.100   0.479   \n",
       "1  15  2.3   1.5  0.3        12.3     0.078     0.151    0.175   0.430   \n",
       "2   9  0.8   1.0  0.4        -2.1     0.105     0.102    0.103   0.376   \n",
       "3  64  3.7   2.3  0.6        -8.7     0.060     0.149    0.167   0.399   \n",
       "4  27  2.4   2.4  0.2       -11.2     0.109     0.179    0.127   0.611   \n",
       "\n",
       "   ast_pct   season  \n",
       "0    0.113  1996-97  \n",
       "1    0.048  1996-97  \n",
       "2    0.148  1996-97  \n",
       "3    0.077  1996-97  \n",
       "4    0.040  1996-97  "
      ]
     },
     "execution_count": 5,
     "metadata": {},
     "output_type": "execute_result"
    }
   ],
   "source": [
    "# Import the data as a DataFrame and check first 5 rows\n",
    "\n",
    "df = pd.read_csv('all_seasons.csv', index_col=0)\n",
    "\n",
    "df.head(5)"
   ]
  },
  {
   "cell_type": "markdown",
   "metadata": {},
   "source": [
    "- Let us count the number of records we have in our dataset. Our dataset has 12305 rows and 21 columns in the dataset."
   ]
  },
  {
   "cell_type": "code",
   "execution_count": 6,
   "metadata": {},
   "outputs": [
    {
     "data": {
      "text/plain": [
       "(12305, 21)"
      ]
     },
     "execution_count": 6,
     "metadata": {},
     "output_type": "execute_result"
    }
   ],
   "source": [
    "df.shape"
   ]
  },
  {
   "cell_type": "code",
   "execution_count": 7,
   "metadata": {
    "_kg_hide-input": true,
    "_uuid": "38e354a2a8f38972e9eea009bfeaf62e29ca902a"
   },
   "outputs": [
    {
     "name": "stdout",
     "output_type": "stream",
     "text": [
      "<class 'pandas.core.frame.DataFrame'>\n",
      "Int64Index: 12305 entries, 0 to 12304\n",
      "Data columns (total 21 columns):\n",
      " #   Column             Non-Null Count  Dtype  \n",
      "---  ------             --------------  -----  \n",
      " 0   player_name        12305 non-null  object \n",
      " 1   team_abbreviation  12305 non-null  object \n",
      " 2   age                12305 non-null  float64\n",
      " 3   player_height      12305 non-null  float64\n",
      " 4   player_weight      12305 non-null  float64\n",
      " 5   college            12305 non-null  object \n",
      " 6   country            12305 non-null  object \n",
      " 7   draft_year         12305 non-null  object \n",
      " 8   draft_round        12305 non-null  object \n",
      " 9   draft_number       12305 non-null  object \n",
      " 10  gp                 12305 non-null  int64  \n",
      " 11  pts                12305 non-null  float64\n",
      " 12  reb                12305 non-null  float64\n",
      " 13  ast                12305 non-null  float64\n",
      " 14  net_rating         12305 non-null  float64\n",
      " 15  oreb_pct           12305 non-null  float64\n",
      " 16  dreb_pct           12305 non-null  float64\n",
      " 17  usg_pct            12305 non-null  float64\n",
      " 18  ts_pct             12305 non-null  float64\n",
      " 19  ast_pct            12305 non-null  float64\n",
      " 20  season             12305 non-null  object \n",
      "dtypes: float64(12), int64(1), object(8)\n",
      "memory usage: 2.1+ MB\n"
     ]
    }
   ],
   "source": [
    "# Check data types and if any records are missing\n",
    "\n",
    "df.info()"
   ]
  },
  {
   "cell_type": "markdown",
   "metadata": {},
   "source": [
    "- There are 12305 input records of country."
   ]
  },
  {
   "cell_type": "code",
   "execution_count": 8,
   "metadata": {
    "_kg_hide-input": true,
    "_uuid": "ff129c8e2063b833db17e4dbc8684d1c76171043"
   },
   "outputs": [
    {
     "data": {
      "text/html": [
       "<div>\n",
       "<style scoped>\n",
       "    .dataframe tbody tr th:only-of-type {\n",
       "        vertical-align: middle;\n",
       "    }\n",
       "\n",
       "    .dataframe tbody tr th {\n",
       "        vertical-align: top;\n",
       "    }\n",
       "\n",
       "    .dataframe thead th {\n",
       "        text-align: right;\n",
       "    }\n",
       "</style>\n",
       "<table border=\"1\" class=\"dataframe\">\n",
       "  <thead>\n",
       "    <tr style=\"text-align: right;\">\n",
       "      <th></th>\n",
       "      <th>age</th>\n",
       "      <th>player_height</th>\n",
       "      <th>player_weight</th>\n",
       "      <th>gp</th>\n",
       "      <th>pts</th>\n",
       "      <th>reb</th>\n",
       "      <th>ast</th>\n",
       "      <th>net_rating</th>\n",
       "      <th>oreb_pct</th>\n",
       "      <th>dreb_pct</th>\n",
       "      <th>usg_pct</th>\n",
       "      <th>ts_pct</th>\n",
       "      <th>ast_pct</th>\n",
       "    </tr>\n",
       "  </thead>\n",
       "  <tbody>\n",
       "    <tr>\n",
       "      <th>count</th>\n",
       "      <td>12305.000000</td>\n",
       "      <td>12305.000000</td>\n",
       "      <td>12305.000000</td>\n",
       "      <td>12305.000000</td>\n",
       "      <td>12305.000000</td>\n",
       "      <td>12305.000000</td>\n",
       "      <td>12305.000000</td>\n",
       "      <td>12305.000000</td>\n",
       "      <td>12305.000000</td>\n",
       "      <td>12305.000000</td>\n",
       "      <td>12305.000000</td>\n",
       "      <td>12305.000000</td>\n",
       "      <td>12305.000000</td>\n",
       "    </tr>\n",
       "    <tr>\n",
       "      <th>mean</th>\n",
       "      <td>27.084518</td>\n",
       "      <td>200.611602</td>\n",
       "      <td>100.369926</td>\n",
       "      <td>51.290532</td>\n",
       "      <td>8.172775</td>\n",
       "      <td>3.559155</td>\n",
       "      <td>1.813986</td>\n",
       "      <td>-2.255733</td>\n",
       "      <td>0.054473</td>\n",
       "      <td>0.141014</td>\n",
       "      <td>0.184891</td>\n",
       "      <td>0.511060</td>\n",
       "      <td>0.131358</td>\n",
       "    </tr>\n",
       "    <tr>\n",
       "      <th>std</th>\n",
       "      <td>4.335868</td>\n",
       "      <td>9.146321</td>\n",
       "      <td>12.477150</td>\n",
       "      <td>25.095909</td>\n",
       "      <td>5.974957</td>\n",
       "      <td>2.483550</td>\n",
       "      <td>1.794155</td>\n",
       "      <td>12.673254</td>\n",
       "      <td>0.043599</td>\n",
       "      <td>0.062704</td>\n",
       "      <td>0.053390</td>\n",
       "      <td>0.101163</td>\n",
       "      <td>0.094483</td>\n",
       "    </tr>\n",
       "    <tr>\n",
       "      <th>min</th>\n",
       "      <td>18.000000</td>\n",
       "      <td>160.020000</td>\n",
       "      <td>60.327736</td>\n",
       "      <td>1.000000</td>\n",
       "      <td>0.000000</td>\n",
       "      <td>0.000000</td>\n",
       "      <td>0.000000</td>\n",
       "      <td>-250.000000</td>\n",
       "      <td>0.000000</td>\n",
       "      <td>0.000000</td>\n",
       "      <td>0.000000</td>\n",
       "      <td>0.000000</td>\n",
       "      <td>0.000000</td>\n",
       "    </tr>\n",
       "    <tr>\n",
       "      <th>25%</th>\n",
       "      <td>24.000000</td>\n",
       "      <td>193.040000</td>\n",
       "      <td>90.718400</td>\n",
       "      <td>31.000000</td>\n",
       "      <td>3.600000</td>\n",
       "      <td>1.800000</td>\n",
       "      <td>0.600000</td>\n",
       "      <td>-6.400000</td>\n",
       "      <td>0.021000</td>\n",
       "      <td>0.096000</td>\n",
       "      <td>0.149000</td>\n",
       "      <td>0.480000</td>\n",
       "      <td>0.066000</td>\n",
       "    </tr>\n",
       "    <tr>\n",
       "      <th>50%</th>\n",
       "      <td>26.000000</td>\n",
       "      <td>200.660000</td>\n",
       "      <td>99.790240</td>\n",
       "      <td>57.000000</td>\n",
       "      <td>6.700000</td>\n",
       "      <td>3.000000</td>\n",
       "      <td>1.200000</td>\n",
       "      <td>-1.300000</td>\n",
       "      <td>0.041000</td>\n",
       "      <td>0.131000</td>\n",
       "      <td>0.181000</td>\n",
       "      <td>0.524000</td>\n",
       "      <td>0.103000</td>\n",
       "    </tr>\n",
       "    <tr>\n",
       "      <th>75%</th>\n",
       "      <td>30.000000</td>\n",
       "      <td>208.280000</td>\n",
       "      <td>108.862080</td>\n",
       "      <td>73.000000</td>\n",
       "      <td>11.500000</td>\n",
       "      <td>4.700000</td>\n",
       "      <td>2.400000</td>\n",
       "      <td>3.200000</td>\n",
       "      <td>0.084000</td>\n",
       "      <td>0.180000</td>\n",
       "      <td>0.217000</td>\n",
       "      <td>0.561000</td>\n",
       "      <td>0.178000</td>\n",
       "    </tr>\n",
       "    <tr>\n",
       "      <th>max</th>\n",
       "      <td>44.000000</td>\n",
       "      <td>231.140000</td>\n",
       "      <td>163.293120</td>\n",
       "      <td>85.000000</td>\n",
       "      <td>36.100000</td>\n",
       "      <td>16.300000</td>\n",
       "      <td>11.700000</td>\n",
       "      <td>300.000000</td>\n",
       "      <td>1.000000</td>\n",
       "      <td>1.000000</td>\n",
       "      <td>1.000000</td>\n",
       "      <td>1.500000</td>\n",
       "      <td>1.000000</td>\n",
       "    </tr>\n",
       "  </tbody>\n",
       "</table>\n",
       "</div>"
      ],
      "text/plain": [
       "                age  player_height  player_weight            gp           pts  \\\n",
       "count  12305.000000   12305.000000   12305.000000  12305.000000  12305.000000   \n",
       "mean      27.084518     200.611602     100.369926     51.290532      8.172775   \n",
       "std        4.335868       9.146321      12.477150     25.095909      5.974957   \n",
       "min       18.000000     160.020000      60.327736      1.000000      0.000000   \n",
       "25%       24.000000     193.040000      90.718400     31.000000      3.600000   \n",
       "50%       26.000000     200.660000      99.790240     57.000000      6.700000   \n",
       "75%       30.000000     208.280000     108.862080     73.000000     11.500000   \n",
       "max       44.000000     231.140000     163.293120     85.000000     36.100000   \n",
       "\n",
       "                reb           ast    net_rating      oreb_pct      dreb_pct  \\\n",
       "count  12305.000000  12305.000000  12305.000000  12305.000000  12305.000000   \n",
       "mean       3.559155      1.813986     -2.255733      0.054473      0.141014   \n",
       "std        2.483550      1.794155     12.673254      0.043599      0.062704   \n",
       "min        0.000000      0.000000   -250.000000      0.000000      0.000000   \n",
       "25%        1.800000      0.600000     -6.400000      0.021000      0.096000   \n",
       "50%        3.000000      1.200000     -1.300000      0.041000      0.131000   \n",
       "75%        4.700000      2.400000      3.200000      0.084000      0.180000   \n",
       "max       16.300000     11.700000    300.000000      1.000000      1.000000   \n",
       "\n",
       "            usg_pct        ts_pct       ast_pct  \n",
       "count  12305.000000  12305.000000  12305.000000  \n",
       "mean       0.184891      0.511060      0.131358  \n",
       "std        0.053390      0.101163      0.094483  \n",
       "min        0.000000      0.000000      0.000000  \n",
       "25%        0.149000      0.480000      0.066000  \n",
       "50%        0.181000      0.524000      0.103000  \n",
       "75%        0.217000      0.561000      0.178000  \n",
       "max        1.000000      1.500000      1.000000  "
      ]
     },
     "execution_count": 8,
     "metadata": {},
     "output_type": "execute_result"
    }
   ],
   "source": [
    "# No missing record in the dataset.\n",
    "# Let us view the statistical information of our the NBA players dataset\n",
    "\n",
    "df.describe()"
   ]
  },
  {
   "cell_type": "markdown",
   "metadata": {
    "_uuid": "1b5210b767f6375e59ff3df40194fc1682f42991"
   },
   "source": [
    "## **2. Country Exploration** <a id=\"3\"></a>"
   ]
  },
  {
   "cell_type": "code",
   "execution_count": 9,
   "metadata": {},
   "outputs": [],
   "source": [
    "import matplotlib.pyplot as plt\n",
    "import pandas as pd\n",
    "import numpy as np\n",
    "import seaborn as sns"
   ]
  },
  {
   "cell_type": "code",
   "execution_count": 10,
   "metadata": {},
   "outputs": [
    {
     "data": {
      "text/plain": [
       "USA           10308\n",
       "Canada          182\n",
       "France          181\n",
       "Australia        89\n",
       "Spain            88\n",
       "              ...  \n",
       "Sudan (UK)        1\n",
       "Ghana             1\n",
       "Denmark           1\n",
       "Colombia          1\n",
       "Portugal          1\n",
       "Name: country, Length: 82, dtype: int64"
      ]
     },
     "execution_count": 10,
     "metadata": {},
     "output_type": "execute_result"
    }
   ],
   "source": [
    "# Let us count the number of countries and print their frequency of occurrence.\n",
    "\n",
    "df['country'].value_counts()"
   ]
  },
  {
   "cell_type": "markdown",
   "metadata": {},
   "source": [
    "- Visualizing NBA players per Country Category"
   ]
  },
  {
   "cell_type": "code",
   "execution_count": 11,
   "metadata": {},
   "outputs": [
    {
     "data": {
      "text/html": [
       "<div>\n",
       "<style scoped>\n",
       "    .dataframe tbody tr th:only-of-type {\n",
       "        vertical-align: middle;\n",
       "    }\n",
       "\n",
       "    .dataframe tbody tr th {\n",
       "        vertical-align: top;\n",
       "    }\n",
       "\n",
       "    .dataframe thead th {\n",
       "        text-align: right;\n",
       "    }\n",
       "</style>\n",
       "<table border=\"1\" class=\"dataframe\">\n",
       "  <thead>\n",
       "    <tr style=\"text-align: right;\">\n",
       "      <th></th>\n",
       "      <th>player_name</th>\n",
       "      <th>team_abbreviation</th>\n",
       "      <th>age</th>\n",
       "      <th>player_height</th>\n",
       "      <th>player_weight</th>\n",
       "      <th>college</th>\n",
       "      <th>draft_year</th>\n",
       "      <th>draft_round</th>\n",
       "      <th>draft_number</th>\n",
       "      <th>gp</th>\n",
       "      <th>pts</th>\n",
       "      <th>reb</th>\n",
       "      <th>ast</th>\n",
       "      <th>net_rating</th>\n",
       "      <th>oreb_pct</th>\n",
       "      <th>dreb_pct</th>\n",
       "      <th>usg_pct</th>\n",
       "      <th>ts_pct</th>\n",
       "      <th>ast_pct</th>\n",
       "      <th>season</th>\n",
       "    </tr>\n",
       "    <tr>\n",
       "      <th>country</th>\n",
       "      <th></th>\n",
       "      <th></th>\n",
       "      <th></th>\n",
       "      <th></th>\n",
       "      <th></th>\n",
       "      <th></th>\n",
       "      <th></th>\n",
       "      <th></th>\n",
       "      <th></th>\n",
       "      <th></th>\n",
       "      <th></th>\n",
       "      <th></th>\n",
       "      <th></th>\n",
       "      <th></th>\n",
       "      <th></th>\n",
       "      <th></th>\n",
       "      <th></th>\n",
       "      <th></th>\n",
       "      <th></th>\n",
       "      <th></th>\n",
       "    </tr>\n",
       "  </thead>\n",
       "  <tbody>\n",
       "    <tr>\n",
       "      <th>Angola</th>\n",
       "      <td>3</td>\n",
       "      <td>3</td>\n",
       "      <td>3</td>\n",
       "      <td>3</td>\n",
       "      <td>3</td>\n",
       "      <td>3</td>\n",
       "      <td>3</td>\n",
       "      <td>3</td>\n",
       "      <td>3</td>\n",
       "      <td>3</td>\n",
       "      <td>3</td>\n",
       "      <td>3</td>\n",
       "      <td>3</td>\n",
       "      <td>3</td>\n",
       "      <td>3</td>\n",
       "      <td>3</td>\n",
       "      <td>3</td>\n",
       "      <td>3</td>\n",
       "      <td>3</td>\n",
       "      <td>3</td>\n",
       "    </tr>\n",
       "    <tr>\n",
       "      <th>Argentina</th>\n",
       "      <td>65</td>\n",
       "      <td>65</td>\n",
       "      <td>65</td>\n",
       "      <td>65</td>\n",
       "      <td>65</td>\n",
       "      <td>65</td>\n",
       "      <td>65</td>\n",
       "      <td>65</td>\n",
       "      <td>65</td>\n",
       "      <td>65</td>\n",
       "      <td>65</td>\n",
       "      <td>65</td>\n",
       "      <td>65</td>\n",
       "      <td>65</td>\n",
       "      <td>65</td>\n",
       "      <td>65</td>\n",
       "      <td>65</td>\n",
       "      <td>65</td>\n",
       "      <td>65</td>\n",
       "      <td>65</td>\n",
       "    </tr>\n",
       "    <tr>\n",
       "      <th>Australia</th>\n",
       "      <td>89</td>\n",
       "      <td>89</td>\n",
       "      <td>89</td>\n",
       "      <td>89</td>\n",
       "      <td>89</td>\n",
       "      <td>89</td>\n",
       "      <td>89</td>\n",
       "      <td>89</td>\n",
       "      <td>89</td>\n",
       "      <td>89</td>\n",
       "      <td>89</td>\n",
       "      <td>89</td>\n",
       "      <td>89</td>\n",
       "      <td>89</td>\n",
       "      <td>89</td>\n",
       "      <td>89</td>\n",
       "      <td>89</td>\n",
       "      <td>89</td>\n",
       "      <td>89</td>\n",
       "      <td>89</td>\n",
       "    </tr>\n",
       "    <tr>\n",
       "      <th>Austria</th>\n",
       "      <td>6</td>\n",
       "      <td>6</td>\n",
       "      <td>6</td>\n",
       "      <td>6</td>\n",
       "      <td>6</td>\n",
       "      <td>6</td>\n",
       "      <td>6</td>\n",
       "      <td>6</td>\n",
       "      <td>6</td>\n",
       "      <td>6</td>\n",
       "      <td>6</td>\n",
       "      <td>6</td>\n",
       "      <td>6</td>\n",
       "      <td>6</td>\n",
       "      <td>6</td>\n",
       "      <td>6</td>\n",
       "      <td>6</td>\n",
       "      <td>6</td>\n",
       "      <td>6</td>\n",
       "      <td>6</td>\n",
       "    </tr>\n",
       "    <tr>\n",
       "      <th>Bahamas</th>\n",
       "      <td>11</td>\n",
       "      <td>11</td>\n",
       "      <td>11</td>\n",
       "      <td>11</td>\n",
       "      <td>11</td>\n",
       "      <td>11</td>\n",
       "      <td>11</td>\n",
       "      <td>11</td>\n",
       "      <td>11</td>\n",
       "      <td>11</td>\n",
       "      <td>11</td>\n",
       "      <td>11</td>\n",
       "      <td>11</td>\n",
       "      <td>11</td>\n",
       "      <td>11</td>\n",
       "      <td>11</td>\n",
       "      <td>11</td>\n",
       "      <td>11</td>\n",
       "      <td>11</td>\n",
       "      <td>11</td>\n",
       "    </tr>\n",
       "    <tr>\n",
       "      <th>...</th>\n",
       "      <td>...</td>\n",
       "      <td>...</td>\n",
       "      <td>...</td>\n",
       "      <td>...</td>\n",
       "      <td>...</td>\n",
       "      <td>...</td>\n",
       "      <td>...</td>\n",
       "      <td>...</td>\n",
       "      <td>...</td>\n",
       "      <td>...</td>\n",
       "      <td>...</td>\n",
       "      <td>...</td>\n",
       "      <td>...</td>\n",
       "      <td>...</td>\n",
       "      <td>...</td>\n",
       "      <td>...</td>\n",
       "      <td>...</td>\n",
       "      <td>...</td>\n",
       "      <td>...</td>\n",
       "      <td>...</td>\n",
       "    </tr>\n",
       "    <tr>\n",
       "      <th>Ukraine</th>\n",
       "      <td>43</td>\n",
       "      <td>43</td>\n",
       "      <td>43</td>\n",
       "      <td>43</td>\n",
       "      <td>43</td>\n",
       "      <td>43</td>\n",
       "      <td>43</td>\n",
       "      <td>43</td>\n",
       "      <td>43</td>\n",
       "      <td>43</td>\n",
       "      <td>43</td>\n",
       "      <td>43</td>\n",
       "      <td>43</td>\n",
       "      <td>43</td>\n",
       "      <td>43</td>\n",
       "      <td>43</td>\n",
       "      <td>43</td>\n",
       "      <td>43</td>\n",
       "      <td>43</td>\n",
       "      <td>43</td>\n",
       "    </tr>\n",
       "    <tr>\n",
       "      <th>United Kingdom</th>\n",
       "      <td>22</td>\n",
       "      <td>22</td>\n",
       "      <td>22</td>\n",
       "      <td>22</td>\n",
       "      <td>22</td>\n",
       "      <td>22</td>\n",
       "      <td>22</td>\n",
       "      <td>22</td>\n",
       "      <td>22</td>\n",
       "      <td>22</td>\n",
       "      <td>22</td>\n",
       "      <td>22</td>\n",
       "      <td>22</td>\n",
       "      <td>22</td>\n",
       "      <td>22</td>\n",
       "      <td>22</td>\n",
       "      <td>22</td>\n",
       "      <td>22</td>\n",
       "      <td>22</td>\n",
       "      <td>22</td>\n",
       "    </tr>\n",
       "    <tr>\n",
       "      <th>Uruguay</th>\n",
       "      <td>2</td>\n",
       "      <td>2</td>\n",
       "      <td>2</td>\n",
       "      <td>2</td>\n",
       "      <td>2</td>\n",
       "      <td>2</td>\n",
       "      <td>2</td>\n",
       "      <td>2</td>\n",
       "      <td>2</td>\n",
       "      <td>2</td>\n",
       "      <td>2</td>\n",
       "      <td>2</td>\n",
       "      <td>2</td>\n",
       "      <td>2</td>\n",
       "      <td>2</td>\n",
       "      <td>2</td>\n",
       "      <td>2</td>\n",
       "      <td>2</td>\n",
       "      <td>2</td>\n",
       "      <td>2</td>\n",
       "    </tr>\n",
       "    <tr>\n",
       "      <th>Venezuela</th>\n",
       "      <td>9</td>\n",
       "      <td>9</td>\n",
       "      <td>9</td>\n",
       "      <td>9</td>\n",
       "      <td>9</td>\n",
       "      <td>9</td>\n",
       "      <td>9</td>\n",
       "      <td>9</td>\n",
       "      <td>9</td>\n",
       "      <td>9</td>\n",
       "      <td>9</td>\n",
       "      <td>9</td>\n",
       "      <td>9</td>\n",
       "      <td>9</td>\n",
       "      <td>9</td>\n",
       "      <td>9</td>\n",
       "      <td>9</td>\n",
       "      <td>9</td>\n",
       "      <td>9</td>\n",
       "      <td>9</td>\n",
       "    </tr>\n",
       "    <tr>\n",
       "      <th>Yugoslavia</th>\n",
       "      <td>11</td>\n",
       "      <td>11</td>\n",
       "      <td>11</td>\n",
       "      <td>11</td>\n",
       "      <td>11</td>\n",
       "      <td>11</td>\n",
       "      <td>11</td>\n",
       "      <td>11</td>\n",
       "      <td>11</td>\n",
       "      <td>11</td>\n",
       "      <td>11</td>\n",
       "      <td>11</td>\n",
       "      <td>11</td>\n",
       "      <td>11</td>\n",
       "      <td>11</td>\n",
       "      <td>11</td>\n",
       "      <td>11</td>\n",
       "      <td>11</td>\n",
       "      <td>11</td>\n",
       "      <td>11</td>\n",
       "    </tr>\n",
       "  </tbody>\n",
       "</table>\n",
       "<p>82 rows × 20 columns</p>\n",
       "</div>"
      ],
      "text/plain": [
       "                player_name  team_abbreviation  age  player_height  \\\n",
       "country                                                              \n",
       "Angola                    3                  3    3              3   \n",
       "Argentina                65                 65   65             65   \n",
       "Australia                89                 89   89             89   \n",
       "Austria                   6                  6    6              6   \n",
       "Bahamas                  11                 11   11             11   \n",
       "...                     ...                ...  ...            ...   \n",
       "Ukraine                  43                 43   43             43   \n",
       "United Kingdom           22                 22   22             22   \n",
       "Uruguay                   2                  2    2              2   \n",
       "Venezuela                 9                  9    9              9   \n",
       "Yugoslavia               11                 11   11             11   \n",
       "\n",
       "                player_weight  college  draft_year  draft_round  draft_number  \\\n",
       "country                                                                         \n",
       "Angola                      3        3           3            3             3   \n",
       "Argentina                  65       65          65           65            65   \n",
       "Australia                  89       89          89           89            89   \n",
       "Austria                     6        6           6            6             6   \n",
       "Bahamas                    11       11          11           11            11   \n",
       "...                       ...      ...         ...          ...           ...   \n",
       "Ukraine                    43       43          43           43            43   \n",
       "United Kingdom             22       22          22           22            22   \n",
       "Uruguay                     2        2           2            2             2   \n",
       "Venezuela                   9        9           9            9             9   \n",
       "Yugoslavia                 11       11          11           11            11   \n",
       "\n",
       "                gp  pts  reb  ast  net_rating  oreb_pct  dreb_pct  usg_pct  \\\n",
       "country                                                                      \n",
       "Angola           3    3    3    3           3         3         3        3   \n",
       "Argentina       65   65   65   65          65        65        65       65   \n",
       "Australia       89   89   89   89          89        89        89       89   \n",
       "Austria          6    6    6    6           6         6         6        6   \n",
       "Bahamas         11   11   11   11          11        11        11       11   \n",
       "...             ..  ...  ...  ...         ...       ...       ...      ...   \n",
       "Ukraine         43   43   43   43          43        43        43       43   \n",
       "United Kingdom  22   22   22   22          22        22        22       22   \n",
       "Uruguay          2    2    2    2           2         2         2        2   \n",
       "Venezuela        9    9    9    9           9         9         9        9   \n",
       "Yugoslavia      11   11   11   11          11        11        11       11   \n",
       "\n",
       "                ts_pct  ast_pct  season  \n",
       "country                                  \n",
       "Angola               3        3       3  \n",
       "Argentina           65       65      65  \n",
       "Australia           89       89      89  \n",
       "Austria              6        6       6  \n",
       "Bahamas             11       11      11  \n",
       "...                ...      ...     ...  \n",
       "Ukraine             43       43      43  \n",
       "United Kingdom      22       22      22  \n",
       "Uruguay              2        2       2  \n",
       "Venezuela            9        9       9  \n",
       "Yugoslavia          11       11      11  \n",
       "\n",
       "[82 rows x 20 columns]"
      ]
     },
     "execution_count": 11,
     "metadata": {},
     "output_type": "execute_result"
    }
   ],
   "source": [
    "# Group activityName, calculate mean of averageHeartRate\n",
    "\n",
    "df.groupby(['country']).count()"
   ]
  },
  {
   "cell_type": "markdown",
   "metadata": {},
   "source": [
    "- There are 82 unique countries in our dataset. For the purpose of simplicity and clarity, Let us group these countries into 15 groups\n",
    "\n",
    "- Group 1 = United States of America.\n",
    "- Group 2 = United Kingdom.\n",
    "- Group 3 = Italy. \n",
    "- Group 4 = Germany.\n",
    "- Group 5 = France.\n",
    "- Group 6 = Canada.\n",
    "- Group 7 = China.\n",
    "- Group 8 = Japan.\n",
    "- Group 9 = Brazil.\n",
    "- Group 10 = Russia.\n",
    "- Group 11 = Australia\n",
    "- Group 12 = Spain\n",
    "- Group 13 = Argentina\n",
    "- Group 14 = Ukraine\n",
    "- Group 15 = Rest of the World"
   ]
  },
  {
   "cell_type": "code",
   "execution_count": 6,
   "metadata": {},
   "outputs": [
    {
     "data": {
      "text/plain": [
       "10308"
      ]
     },
     "execution_count": 6,
     "metadata": {},
     "output_type": "execute_result"
    }
   ],
   "source": [
    " # Counting specific country value \n",
    "\n",
    "usa = (df['country']=='USA').sum()\n",
    "usa"
   ]
  },
  {
   "cell_type": "code",
   "execution_count": 7,
   "metadata": {},
   "outputs": [
    {
     "data": {
      "text/plain": [
       "22"
      ]
     },
     "execution_count": 7,
     "metadata": {},
     "output_type": "execute_result"
    }
   ],
   "source": [
    " # Counting specific country value \n",
    "\n",
    "uk = (df['country']=='United Kingdom').sum()\n",
    "uk"
   ]
  },
  {
   "cell_type": "code",
   "execution_count": 8,
   "metadata": {},
   "outputs": [
    {
     "data": {
      "text/plain": [
       "41"
      ]
     },
     "execution_count": 8,
     "metadata": {},
     "output_type": "execute_result"
    }
   ],
   "source": [
    " # Counting specific country value \n",
    "\n",
    "italy = (df['country']=='Italy').sum()\n",
    "italy"
   ]
  },
  {
   "cell_type": "code",
   "execution_count": 9,
   "metadata": {},
   "outputs": [
    {
     "data": {
      "text/plain": [
       "59"
      ]
     },
     "execution_count": 9,
     "metadata": {},
     "output_type": "execute_result"
    }
   ],
   "source": [
    " # Counting specific country value \n",
    "\n",
    "germany = (df['country']=='Germany').sum()\n",
    "germany"
   ]
  },
  {
   "cell_type": "code",
   "execution_count": 10,
   "metadata": {},
   "outputs": [
    {
     "data": {
      "text/plain": [
       "181"
      ]
     },
     "execution_count": 10,
     "metadata": {},
     "output_type": "execute_result"
    }
   ],
   "source": [
    " # Counting specific country value \n",
    "\n",
    "france = (df['country']=='France').sum()\n",
    "france"
   ]
  },
  {
   "cell_type": "code",
   "execution_count": 11,
   "metadata": {},
   "outputs": [
    {
     "data": {
      "text/plain": [
       "182"
      ]
     },
     "execution_count": 11,
     "metadata": {},
     "output_type": "execute_result"
    }
   ],
   "source": [
    " # Counting specific country value \n",
    "\n",
    "canada = (df['country']=='Canada').sum()\n",
    "canada"
   ]
  },
  {
   "cell_type": "code",
   "execution_count": 12,
   "metadata": {},
   "outputs": [
    {
     "data": {
      "text/plain": [
       "18"
      ]
     },
     "execution_count": 12,
     "metadata": {},
     "output_type": "execute_result"
    }
   ],
   "source": [
    " # Counting specific country value \n",
    "\n",
    "china = (df['country']=='China').sum()\n",
    "china"
   ]
  },
  {
   "cell_type": "code",
   "execution_count": 13,
   "metadata": {},
   "outputs": [
    {
     "data": {
      "text/plain": [
       "8"
      ]
     },
     "execution_count": 13,
     "metadata": {},
     "output_type": "execute_result"
    }
   ],
   "source": [
    " # Counting specific country value \n",
    "\n",
    "japan = (df['country']=='Japan').sum()\n",
    "japan"
   ]
  },
  {
   "cell_type": "code",
   "execution_count": 14,
   "metadata": {},
   "outputs": [
    {
     "data": {
      "text/plain": [
       "85"
      ]
     },
     "execution_count": 14,
     "metadata": {},
     "output_type": "execute_result"
    }
   ],
   "source": [
    " # Counting specific country value \n",
    "\n",
    "brazil = (df['country']=='Brazil').sum()\n",
    "brazil"
   ]
  },
  {
   "cell_type": "code",
   "execution_count": 15,
   "metadata": {},
   "outputs": [
    {
     "data": {
      "text/plain": [
       "37"
      ]
     },
     "execution_count": 15,
     "metadata": {},
     "output_type": "execute_result"
    }
   ],
   "source": [
    " # Counting specific country value \n",
    "\n",
    "russia = (df['country']=='Russia').sum()\n",
    "russia"
   ]
  },
  {
   "cell_type": "code",
   "execution_count": 16,
   "metadata": {},
   "outputs": [
    {
     "data": {
      "text/plain": [
       "89"
      ]
     },
     "execution_count": 16,
     "metadata": {},
     "output_type": "execute_result"
    }
   ],
   "source": [
    " # Counting specific country value \n",
    "\n",
    "australia = (df['country']=='Australia').sum()\n",
    "australia"
   ]
  },
  {
   "cell_type": "code",
   "execution_count": 17,
   "metadata": {},
   "outputs": [
    {
     "data": {
      "text/plain": [
       "88"
      ]
     },
     "execution_count": 17,
     "metadata": {},
     "output_type": "execute_result"
    }
   ],
   "source": [
    " # Counting specific country value \n",
    "\n",
    "spain = (df['country']=='Spain').sum()\n",
    "spain"
   ]
  },
  {
   "cell_type": "code",
   "execution_count": 18,
   "metadata": {},
   "outputs": [
    {
     "data": {
      "text/plain": [
       "65"
      ]
     },
     "execution_count": 18,
     "metadata": {},
     "output_type": "execute_result"
    }
   ],
   "source": [
    " # Counting specific country value \n",
    "\n",
    "argentina = (df['country']=='Argentina').sum()\n",
    "argentina"
   ]
  },
  {
   "cell_type": "code",
   "execution_count": 19,
   "metadata": {},
   "outputs": [
    {
     "data": {
      "text/plain": [
       "43"
      ]
     },
     "execution_count": 19,
     "metadata": {},
     "output_type": "execute_result"
    }
   ],
   "source": [
    " # Counting specific country value \n",
    "\n",
    "ukraine = (df['country']=='Ukraine').sum()\n",
    "ukraine"
   ]
  },
  {
   "cell_type": "code",
   "execution_count": 27,
   "metadata": {},
   "outputs": [
    {
     "data": {
      "text/plain": [
       "1079"
      ]
     },
     "execution_count": 27,
     "metadata": {},
     "output_type": "execute_result"
    }
   ],
   "source": [
    " # Counting specific country value \n",
    "\n",
    "rest_of_the_world = len(df['country']) - usa - uk - italy - germany - france - canada - china - japan - brazil - russia - australia - spain - argentina - ukraine\n",
    "rest_of_the_world"
   ]
  },
  {
   "cell_type": "code",
   "execution_count": 77,
   "metadata": {},
   "outputs": [
    {
     "data": {
      "text/html": [
       "<div>\n",
       "<style scoped>\n",
       "    .dataframe tbody tr th:only-of-type {\n",
       "        vertical-align: middle;\n",
       "    }\n",
       "\n",
       "    .dataframe tbody tr th {\n",
       "        vertical-align: top;\n",
       "    }\n",
       "\n",
       "    .dataframe thead th {\n",
       "        text-align: right;\n",
       "    }\n",
       "</style>\n",
       "<table border=\"1\" class=\"dataframe\">\n",
       "  <thead>\n",
       "    <tr style=\"text-align: right;\">\n",
       "      <th></th>\n",
       "      <th>country</th>\n",
       "      <th>Number of NBA Players</th>\n",
       "    </tr>\n",
       "  </thead>\n",
       "  <tbody>\n",
       "    <tr>\n",
       "      <th>0</th>\n",
       "      <td>USA</td>\n",
       "      <td>10308</td>\n",
       "    </tr>\n",
       "    <tr>\n",
       "      <th>1</th>\n",
       "      <td>United Kingdom</td>\n",
       "      <td>22</td>\n",
       "    </tr>\n",
       "    <tr>\n",
       "      <th>2</th>\n",
       "      <td>Italy</td>\n",
       "      <td>41</td>\n",
       "    </tr>\n",
       "    <tr>\n",
       "      <th>3</th>\n",
       "      <td>Germany</td>\n",
       "      <td>59</td>\n",
       "    </tr>\n",
       "    <tr>\n",
       "      <th>4</th>\n",
       "      <td>France</td>\n",
       "      <td>181</td>\n",
       "    </tr>\n",
       "    <tr>\n",
       "      <th>5</th>\n",
       "      <td>Canada</td>\n",
       "      <td>182</td>\n",
       "    </tr>\n",
       "    <tr>\n",
       "      <th>6</th>\n",
       "      <td>China</td>\n",
       "      <td>18</td>\n",
       "    </tr>\n",
       "    <tr>\n",
       "      <th>7</th>\n",
       "      <td>Japan</td>\n",
       "      <td>8</td>\n",
       "    </tr>\n",
       "    <tr>\n",
       "      <th>8</th>\n",
       "      <td>Brazil</td>\n",
       "      <td>85</td>\n",
       "    </tr>\n",
       "    <tr>\n",
       "      <th>9</th>\n",
       "      <td>Russia</td>\n",
       "      <td>37</td>\n",
       "    </tr>\n",
       "    <tr>\n",
       "      <th>10</th>\n",
       "      <td>Australia</td>\n",
       "      <td>89</td>\n",
       "    </tr>\n",
       "    <tr>\n",
       "      <th>11</th>\n",
       "      <td>Spain</td>\n",
       "      <td>88</td>\n",
       "    </tr>\n",
       "    <tr>\n",
       "      <th>12</th>\n",
       "      <td>Argentina</td>\n",
       "      <td>65</td>\n",
       "    </tr>\n",
       "    <tr>\n",
       "      <th>13</th>\n",
       "      <td>Ukraine</td>\n",
       "      <td>43</td>\n",
       "    </tr>\n",
       "    <tr>\n",
       "      <th>14</th>\n",
       "      <td>Rest of World</td>\n",
       "      <td>1079</td>\n",
       "    </tr>\n",
       "  </tbody>\n",
       "</table>\n",
       "</div>"
      ],
      "text/plain": [
       "           country  Number of NBA Players\n",
       "0              USA                  10308\n",
       "1   United Kingdom                     22\n",
       "2            Italy                     41\n",
       "3          Germany                     59\n",
       "4           France                    181\n",
       "5           Canada                    182\n",
       "6            China                     18\n",
       "7            Japan                      8\n",
       "8           Brazil                     85\n",
       "9           Russia                     37\n",
       "10       Australia                     89\n",
       "11           Spain                     88\n",
       "12       Argentina                     65\n",
       "13         Ukraine                     43\n",
       "14   Rest of World                   1079"
      ]
     },
     "execution_count": 77,
     "metadata": {},
     "output_type": "execute_result"
    }
   ],
   "source": [
    "# Create DataFrame\n",
    "dataframe = pd.DataFrame()\n",
    "\n",
    "# Add columns\n",
    "dataframe['country'] = ['USA', 'United Kingdom', 'Italy', 'Germany', 'France', 'Canada', 'China', 'Japan', 'Brazil', 'Russia', 'Australia', 'Spain', 'Argentina', 'Ukraine', 'Rest of World']\n",
    "dataframe['Number of NBA Players'] = [usa, uk, italy, germany, france, canada, china, japan, brazil, russia, australia, spain, argentina, ukraine, rest_of_the_world]\n",
    "\n",
    "# Show DataFrame\n",
    "dataframe"
   ]
  },
  {
   "cell_type": "code",
   "execution_count": 78,
   "metadata": {},
   "outputs": [
    {
     "data": {
      "image/png": "[encoded data removed]",
      "text/plain": [
       "<Figure size 432x288 with 1 Axes>"
      ]
     },
     "metadata": {
      "needs_background": "light"
     },
     "output_type": "display_data"
    }
   ],
   "source": [
    "x = dataframe[\"country\"]\n",
    "y = dataframe[\"Number of NBA Players\"]\n",
    "plt.bar(x,y,align='center') # A bar chart\n",
    "plt.xticks(rotation = 90)\n",
    "plt.xlabel('Countries')\n",
    "plt.ylabel('Number of NBA Players')\n",
    "plt.show()"
   ]
  },
  {
   "cell_type": "code",
   "execution_count": 86,
   "metadata": {},
   "outputs": [
    {
     "data": {
      "image/png": "[encoded data removed]",
      "text/plain": [
       "<Figure size 432x288 with 1 Axes>"
      ]
     },
     "metadata": {},
     "output_type": "display_data"
    },
    {
     "data": {
      "text/plain": [
       "<Figure size 1440x1080 with 0 Axes>"
      ]
     },
     "metadata": {},
     "output_type": "display_data"
    }
   ],
   "source": [
    "# Pie chart, where the slices will be ordered and plotted counter-clockwise:\n",
    "labels = x = dataframe[\"country\"]\n",
    "data = dataframe[\"Number of NBA Players\"]\n",
    "\n",
    "\n",
    "fig1, ax1 = plt.subplots()\n",
    "ax1.pie(data, labels=labels, autopct='%1.1f%%',\n",
    "        shadow=True, startangle=90)\n",
    "fig = plt.figure(figsize =(20, 15))\n",
    "ax1.axis('equal')  # Equal aspect ratio ensures that pie is drawn as a circle.\n",
    "\n",
    "plt.show()"
   ]
  },
  {
   "cell_type": "code",
   "execution_count": 93,
   "metadata": {},
   "outputs": [
    {
     "data": {
      "image/png": "[encoded data removed]",
      "text/plain": [
       "<Figure size 4320x1440 with 1 Axes>"
      ]
     },
     "metadata": {},
     "output_type": "display_data"
    }
   ],
   "source": [
    "# Import libraries\n",
    "from matplotlib import pyplot as plt\n",
    "import numpy as np\n",
    " \n",
    " \n",
    "# Creating dataset\n",
    "countries = x = dataframe[\"country\"]\n",
    " \n",
    "data = dataframe[\"Number of NBA Players\"]\n",
    " \n",
    "# Creating plot\n",
    "fig = plt.figure(figsize =(60, 20))\n",
    "plt.pie(data, labels = countries, autopct='%1.1f%%', startangle=15, shadow=True)\n",
    " \n",
    "# show plot\n",
    "plt.show()"
   ]
  },
  {
   "cell_type": "code",
   "execution_count": null,
   "metadata": {},
   "outputs": [],
   "source": []
  },
  {
   "cell_type": "markdown",
   "metadata": {},
   "source": [
    "\n",
    "\n",
    "<a><img style=\"\" src=\"https://cdn.vox-cdn.com/thumbor/9U7Bn1ajYJ9ySFczKP9bno1HnIw=/0x0:1200x800/1200x800/filters:focal(348x97:540x289)/cdn.vox-cdn.com/uploads/chorus_image/image/60847977/Di9eY4zX0AApYXt.0.jpg\"/></a>\n"
   ]
  },
  {
   "cell_type": "markdown",
   "metadata": {
    "_uuid": "bf35ab5be10e493878da61bd4d3f0b4b71d6c5b4"
   },
   "source": [
    "## **5. Conclusion** <a id=\"5\"></a>"
   ]
  },
  {
   "cell_type": "markdown",
   "metadata": {},
   "source": [
    "\n",
    "### With a total of 12305 MBA players in our dataset, the following table shows the number of MBA players based on their various countries of origin.\n",
    "\n",
    "- MBA players from United States of America represent 83.8% of the dataset\n",
    "- MBA players from United Kingdom represent 0.2% of the dataset\n",
    "- MBA players from Italy represent 0.3% of the dataset\n",
    "- MBA players from Germany represent 0.5% of the dataset\n",
    "- MBA players from France represent 1.5% of the dataset\n",
    "- MBA players from Canada represent 1.5% of the dataset\n",
    "- MBA players from China represent 0.1% of the dataset\n",
    "- MBA players from Japan represent 0.1% of the dataset\n",
    "- MBA players from Brazil represent 0.7% of the dataset\n",
    "- MBA players from Russia represent 0.3% of the dataset\n",
    "- MBA players from Australia represent 0.7% of the dataset\n",
    "- MBA players from Spain represent 0.7% of the dataset\n",
    "- MBA players from Argentina represent 0.5% of the dataset\n",
    "- MBA players from Ukraine represent 0.3% of the dataset\n",
    "- MBA players from Rest of the World represent 8.8% of the dataset"
   ]
  },
  {
   "cell_type": "code",
   "execution_count": 94,
   "metadata": {},
   "outputs": [
    {
     "data": {
      "text/html": [
       "<div>\n",
       "<style scoped>\n",
       "    .dataframe tbody tr th:only-of-type {\n",
       "        vertical-align: middle;\n",
       "    }\n",
       "\n",
       "    .dataframe tbody tr th {\n",
       "        vertical-align: top;\n",
       "    }\n",
       "\n",
       "    .dataframe thead th {\n",
       "        text-align: right;\n",
       "    }\n",
       "</style>\n",
       "<table border=\"1\" class=\"dataframe\">\n",
       "  <thead>\n",
       "    <tr style=\"text-align: right;\">\n",
       "      <th></th>\n",
       "      <th>country</th>\n",
       "      <th>Number of NBA Players</th>\n",
       "    </tr>\n",
       "  </thead>\n",
       "  <tbody>\n",
       "    <tr>\n",
       "      <th>0</th>\n",
       "      <td>USA</td>\n",
       "      <td>10308</td>\n",
       "    </tr>\n",
       "    <tr>\n",
       "      <th>1</th>\n",
       "      <td>United Kingdom</td>\n",
       "      <td>22</td>\n",
       "    </tr>\n",
       "    <tr>\n",
       "      <th>2</th>\n",
       "      <td>Italy</td>\n",
       "      <td>41</td>\n",
       "    </tr>\n",
       "    <tr>\n",
       "      <th>3</th>\n",
       "      <td>Germany</td>\n",
       "      <td>59</td>\n",
       "    </tr>\n",
       "    <tr>\n",
       "      <th>4</th>\n",
       "      <td>France</td>\n",
       "      <td>181</td>\n",
       "    </tr>\n",
       "    <tr>\n",
       "      <th>5</th>\n",
       "      <td>Canada</td>\n",
       "      <td>182</td>\n",
       "    </tr>\n",
       "    <tr>\n",
       "      <th>6</th>\n",
       "      <td>China</td>\n",
       "      <td>18</td>\n",
       "    </tr>\n",
       "    <tr>\n",
       "      <th>7</th>\n",
       "      <td>Japan</td>\n",
       "      <td>8</td>\n",
       "    </tr>\n",
       "    <tr>\n",
       "      <th>8</th>\n",
       "      <td>Brazil</td>\n",
       "      <td>85</td>\n",
       "    </tr>\n",
       "    <tr>\n",
       "      <th>9</th>\n",
       "      <td>Russia</td>\n",
       "      <td>37</td>\n",
       "    </tr>\n",
       "    <tr>\n",
       "      <th>10</th>\n",
       "      <td>Australia</td>\n",
       "      <td>89</td>\n",
       "    </tr>\n",
       "    <tr>\n",
       "      <th>11</th>\n",
       "      <td>Spain</td>\n",
       "      <td>88</td>\n",
       "    </tr>\n",
       "    <tr>\n",
       "      <th>12</th>\n",
       "      <td>Argentina</td>\n",
       "      <td>65</td>\n",
       "    </tr>\n",
       "    <tr>\n",
       "      <th>13</th>\n",
       "      <td>Ukraine</td>\n",
       "      <td>43</td>\n",
       "    </tr>\n",
       "    <tr>\n",
       "      <th>14</th>\n",
       "      <td>Rest of World</td>\n",
       "      <td>1079</td>\n",
       "    </tr>\n",
       "  </tbody>\n",
       "</table>\n",
       "</div>"
      ],
      "text/plain": [
       "           country  Number of NBA Players\n",
       "0              USA                  10308\n",
       "1   United Kingdom                     22\n",
       "2            Italy                     41\n",
       "3          Germany                     59\n",
       "4           France                    181\n",
       "5           Canada                    182\n",
       "6            China                     18\n",
       "7            Japan                      8\n",
       "8           Brazil                     85\n",
       "9           Russia                     37\n",
       "10       Australia                     89\n",
       "11           Spain                     88\n",
       "12       Argentina                     65\n",
       "13         Ukraine                     43\n",
       "14   Rest of World                   1079"
      ]
     },
     "execution_count": 94,
     "metadata": {},
     "output_type": "execute_result"
    }
   ],
   "source": [
    "dataframe"
   ]
  }
 ],
 "metadata": {
  "kernelspec": {
   "display_name": "Python 3 (ipykernel)",
   "language": "python",
   "name": "python3"
  },
  "language_info": {
   "codemirror_mode": {
    "name": "ipython",
    "version": 3
   },
   "file_extension": ".py",
   "mimetype": "text/x-python",
   "name": "python",
   "nbconvert_exporter": "python",
   "pygments_lexer": "ipython3",
   "version": "3.8.4"
  }
 },
 "nbformat": 4,
 "nbformat_minor": 4
}
